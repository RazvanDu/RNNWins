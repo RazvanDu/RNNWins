{
 "cells": [
  {
   "cell_type": "code",
   "execution_count": 1,
   "metadata": {
    "collapsed": true
   },
   "outputs": [],
   "source": [
    "import numpy as np\n",
    "import torch\n",
    "from tqdm import tqdm"
   ]
  },
  {
   "cell_type": "code",
   "execution_count": 2,
   "outputs": [],
   "source": [
    "filename = \"wonderland.txt\"\n",
    "raw_text = open(filename, 'r', encoding='utf-8').read()\n",
    "raw_text = raw_text.lower()"
   ],
   "metadata": {
    "collapsed": false
   }
  },
  {
   "cell_type": "code",
   "execution_count": 3,
   "outputs": [],
   "source": [
    "chars = sorted(list(set(raw_text)))\n",
    "char_to_int = dict((c, i) for i, c in enumerate(chars))"
   ],
   "metadata": {
    "collapsed": false
   }
  },
  {
   "cell_type": "code",
   "execution_count": 4,
   "outputs": [
    {
     "name": "stdout",
     "output_type": "stream",
     "text": [
      "Total Characters:  164093\n",
      "Total Vocab:  65\n"
     ]
    }
   ],
   "source": [
    "n_chars = len(raw_text)\n",
    "n_vocab = len(chars)\n",
    "print(\"Total Characters: \", n_chars)\n",
    "print(\"Total Vocab: \", n_vocab)"
   ],
   "metadata": {
    "collapsed": false
   }
  },
  {
   "cell_type": "code",
   "execution_count": 5,
   "outputs": [
    {
     "name": "stdout",
     "output_type": "stream",
     "text": [
      "Total Patterns:  163993\n"
     ]
    }
   ],
   "source": [
    "seq_length = 100\n",
    "dataX = []\n",
    "dataY = []\n",
    "for i in range(0, n_chars - seq_length, 1):\n",
    "    seq_in = raw_text[i:i + seq_length]\n",
    "    seq_out = raw_text[i + seq_length]\n",
    "    dataX.append([char_to_int[char] for char in seq_in])\n",
    "    dataY.append(char_to_int[seq_out])\n",
    "n_patterns = len(dataX)\n",
    "print(\"Total Patterns: \", n_patterns)"
   ],
   "metadata": {
    "collapsed": false
   }
  },
  {
   "cell_type": "code",
   "execution_count": 37,
   "outputs": [],
   "source": [
    "X = torch.tensor(dataX, dtype=torch.float32).reshape(n_patterns, seq_length, 1)\n",
    "X = X / float(n_vocab)\n",
    "y = torch.tensor(dataY)"
   ],
   "metadata": {
    "collapsed": false
   }
  },
  {
   "cell_type": "code",
   "execution_count": 38,
   "outputs": [
    {
     "name": "stdout",
     "output_type": "stream",
     "text": [
      "torch.Size([163993, 100, 1]) torch.Size([163993])\n"
     ]
    }
   ],
   "source": [
    "lookback = 1\n",
    "print(X.shape, y.shape)"
   ],
   "metadata": {
    "collapsed": false
   }
  },
  {
   "cell_type": "code",
   "execution_count": 61,
   "outputs": [],
   "source": [
    "import torch.nn as nn\n",
    "\n",
    "class LSTMModel(nn.Module):\n",
    "    def __init__(self):\n",
    "        super().__init__()\n",
    "        self.lstm = nn.LSTM(input_size=1, hidden_size=100, num_layers=2, batch_first=True)\n",
    "        self.linear = nn.Linear(100, n_vocab)\n",
    "    def forward(self, x):\n",
    "        x, _ = self.lstm(x)\n",
    "        x = x[:, -1, :]\n",
    "        x = self.linear(x)\n",
    "        return x"
   ],
   "metadata": {
    "collapsed": false
   }
  },
  {
   "cell_type": "code",
   "execution_count": 62,
   "outputs": [
    {
     "name": "stderr",
     "output_type": "stream",
     "text": [
      "100%|██████████| 1282/1282 [00:15<00:00, 81.49it/s]\n"
     ]
    },
    {
     "name": "stdout",
     "output_type": "stream",
     "text": [
      "Epoch 0: Cross-entropy: 3681.1152\n",
      "Epoch 1: Cross-entropy: 3450.7322\n",
      "Epoch 2: Cross-entropy: 3329.1887\n",
      "Epoch 3: Cross-entropy: 3247.1357\n",
      "Epoch 4: Cross-entropy: 3134.8245\n",
      "Epoch 5: Cross-entropy: 3060.2080\n",
      "Epoch 6: Cross-entropy: 2970.8145\n",
      "Epoch 7: Cross-entropy: 2897.7041\n",
      "Epoch 8: Cross-entropy: 2855.8677\n",
      "Epoch 9: Cross-entropy: 2803.6838\n",
      "Epoch 10: Cross-entropy: 2739.0198\n",
      "Epoch 11: Cross-entropy: 2679.2400\n",
      "Epoch 12: Cross-entropy: 2640.1343\n",
      "Epoch 13: Cross-entropy: 2603.7817\n",
      "Epoch 14: Cross-entropy: 2582.1470\n",
      "Epoch 15: Cross-entropy: 2522.6814\n",
      "Epoch 16: Cross-entropy: 2508.6467\n",
      "Epoch 17: Cross-entropy: 2460.3457\n",
      "Epoch 18: Cross-entropy: 2437.6306\n",
      "Epoch 19: Cross-entropy: 2409.8735\n",
      "Epoch 20: Cross-entropy: 2408.4814\n",
      "Epoch 21: Cross-entropy: 2365.3513\n",
      "Epoch 22: Cross-entropy: 2335.8066\n",
      "Epoch 23: Cross-entropy: 2308.9231\n",
      "Epoch 24: Cross-entropy: 2299.7517\n",
      "Epoch 25: Cross-entropy: 2276.2441\n",
      "Epoch 26: Cross-entropy: 2255.6306\n",
      "Epoch 27: Cross-entropy: 2231.6162\n",
      "Epoch 28: Cross-entropy: 2216.5095\n",
      "Epoch 29: Cross-entropy: 2208.7087\n",
      "Epoch 30: Cross-entropy: 2186.1104\n",
      "Epoch 31: Cross-entropy: 2200.5742\n",
      "Epoch 32: Cross-entropy: 2155.7434\n",
      "Epoch 33: Cross-entropy: 2143.3062\n",
      "Epoch 34: Cross-entropy: 2124.7224\n",
      "Epoch 35: Cross-entropy: 2118.6689\n",
      "Epoch 36: Cross-entropy: 2110.8665\n",
      "Epoch 37: Cross-entropy: 2081.3806\n",
      "Epoch 38: Cross-entropy: 2093.9915\n",
      "Epoch 39: Cross-entropy: 2071.4856\n"
     ]
    }
   ],
   "source": [
    "import numpy as np\n",
    "import torch.optim as optim\n",
    "import torch.utils.data as data\n",
    "\n",
    "def my_collate(batch):\n",
    "\n",
    "    # Preparing input sequences\n",
    "    x = [item[0] for item in batch]\n",
    "    x = torch.stack(x)\n",
    "    # Preparing target values\n",
    "    y = [item[1] for item in batch]\n",
    "    y = torch.stack(y)\n",
    "\n",
    "    return [x, y]\n",
    "\n",
    "device = torch.device(\"cuda:0\")\n",
    "\n",
    "model = LSTMModel().to(device)\n",
    "optimizer = optim.Adam(model.parameters())\n",
    "loss_fn = nn.CrossEntropyLoss()\n",
    "loader = tqdm(data.DataLoader(data.TensorDataset(X, y), shuffle=True, batch_size=128))\n",
    "\n",
    "best_model = None\n",
    "best_loss = np.inf\n",
    "\n",
    "n_epochs = 40\n",
    "for epoch in range(n_epochs):\n",
    "    model.float()\n",
    "    model.train()\n",
    "    for X_batch, y_batch in loader:\n",
    "        y_pred = model(X_batch.float().to(device))\n",
    "        loss = loss_fn(y_pred.to(device), y_batch.long().to(device))\n",
    "        optimizer.zero_grad()\n",
    "        loss.backward()\n",
    "        optimizer.step()\n",
    "    loss = 0\n",
    "    with torch.no_grad():\n",
    "        for X_batch, y_batch in loader:\n",
    "            y_pred = model(X_batch.float().to(device))\n",
    "            loss += loss_fn(y_pred.to(device), y_batch.long().to(device))\n",
    "        if loss < best_loss:\n",
    "            best_loss = loss\n",
    "            best_model = model.state_dict()\n",
    "        print(\"Epoch %d: Cross-entropy: %.4f\" % (epoch, loss))\n",
    "\n",
    "torch.save([best_model, char_to_int], \"single-char2.pth\")"
   ],
   "metadata": {
    "collapsed": false
   }
  },
  {
   "cell_type": "code",
   "execution_count": 63,
   "outputs": [],
   "source": [
    "seq_length = 100\n",
    "start = np.random.randint(0, len(raw_text)-seq_length)\n",
    "prompt = raw_text[start:start+seq_length]"
   ],
   "metadata": {
    "collapsed": false
   }
  },
  {
   "cell_type": "code",
   "execution_count": 65,
   "outputs": [
    {
     "name": "stdout",
     "output_type": "stream",
     "text": [
      "xd alice was at the beach and  dx \n",
      "Prompt: \"alice was at the beach and \"\n",
      "the courdr was the rabbit with the white ragd in a foeng with the terps of the tertes of the tertes of throeets if in a sooe of the coulous crrious the project gutenberg liters and agdins of the teres agdinsing the project gutenberg ligene agdine the project gutenberg ligene agdine the project gutenberg ligene agdine the project gutenberg ligene agdine the project gutenberg ligene agdine the project gutenberg ligene agdine the project gutenberg ligene agdine the project gutenberg ligene agdine the project gutenberg ligene agdine the project gutenberg ligene agdine the project gutenberg ligene agdine the project gutenberg ligene agdine the project gutenberg ligene agdine the project gutenberg ligene agdine the project gutenberg ligene agdine the project gutenberg ligene agdine the project gutenberg ligene agdine the project gutenberg ligene agdine the project gutenberg ligene agdine the project gutenberg ligene agdine the project gutenberg ligene agdine the project gutenberg ligene agdi\n",
      "Done.\n"
     ]
    }
   ],
   "source": [
    "import numpy as np\n",
    "import torch\n",
    "import torch.nn as nn\n",
    "\n",
    "best_model, char_to_int = torch.load(\"single-char2.pth\")\n",
    "n_vocab = len(char_to_int)\n",
    "int_to_char = dict((i, c) for c, i in char_to_int.items())\n",
    "\n",
    "model = LSTMModel()\n",
    "model.load_state_dict(best_model)\n",
    "\n",
    "filename = \"wonderland.txt\"\n",
    "seq_length = 100\n",
    "raw_text = open(filename, 'r', encoding='utf-8').read()\n",
    "raw_text = raw_text.lower()\n",
    "start = np.random.randint(0, len(raw_text)-seq_length)\n",
    "prompt = 'alice was at the beach and '\n",
    "print(\"xd \" + prompt + \" dx \")\n",
    "pattern = [char_to_int[c] for c in prompt]\n",
    "\n",
    "model.eval()\n",
    "print('Prompt: \"%s\"' % prompt)\n",
    "with torch.no_grad():\n",
    "    for i in range(1000):\n",
    "        # format input array of int into PyTorch tensor\n",
    "        x = np.reshape(pattern, (1, len(pattern), 1)) / float(n_vocab)\n",
    "        x = torch.tensor(x, dtype=torch.float32)\n",
    "        # generate logits as output from the model\n",
    "        prediction = model(x)\n",
    "        # convert logits into one character\n",
    "        index = int(prediction.argmax())\n",
    "        result = int_to_char[index]\n",
    "        print(result, end=\"\")\n",
    "        # append the new character into the prompt for the next iteration\n",
    "        pattern.append(index)\n",
    "        pattern = pattern[1:]\n",
    "print()\n",
    "print(\"Done.\")"
   ],
   "metadata": {
    "collapsed": false
   }
  }
 ],
 "metadata": {
  "kernelspec": {
   "display_name": "Python 3",
   "language": "python",
   "name": "python3"
  },
  "language_info": {
   "codemirror_mode": {
    "name": "ipython",
    "version": 2
   },
   "file_extension": ".py",
   "mimetype": "text/x-python",
   "name": "python",
   "nbconvert_exporter": "python",
   "pygments_lexer": "ipython2",
   "version": "2.7.6"
  }
 },
 "nbformat": 4,
 "nbformat_minor": 0
}
