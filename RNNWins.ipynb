{
 "cells": [
  {
   "cell_type": "code",
   "execution_count": 1,
   "outputs": [],
   "source": [
    "# https://arxiv.org/abs/2101.00027    -    BIG DATA-SET\n",
    "# https://huggingface.co/datasets/enwik8 - SMALLER FOR TESTING?"
   ],
   "metadata": {
    "collapsed": false
   }
  },
  {
   "cell_type": "code",
   "execution_count": 2,
   "outputs": [],
   "source": [
    "import numpy as np\n",
    "import torch\n",
    "from tqdm import tqdm\n",
    "import torchtext\n",
    "import numpy as np\n",
    "import torch.optim as optim\n",
    "import torch.utils.data as data\n",
    "from torchtext.data import get_tokenizer\n",
    "\n",
    "from tokenizers import Tokenizer # RWKV https://github.com/BlinkDL/ChatRWKV/blob/main/RWKV_in_150_lines.py#L11\n",
    "tokenizer = Tokenizer.from_file(\"20B_tokenizer.json\") # RWKV https://github.com/BlinkDL/ChatRWKV/blob/main/RWKV_in_150_lines.py#L11"
   ],
   "metadata": {
    "collapsed": false
   }
  },
  {
   "cell_type": "code",
   "execution_count": 3,
   "outputs": [],
   "source": [
    "folderr = \"simplebooks/simplebooks-92\"\n",
    "train_file = folderr + \"/train.txt\"\n",
    "test_file = folderr + \"/test.txt\"\n",
    "validation_file = folderr + \"/validation.txt\""
   ],
   "metadata": {
    "collapsed": false
   }
  },
  {
   "cell_type": "code",
   "execution_count": 4,
   "outputs": [
    {
     "name": "stdout",
     "output_type": "stream",
     "text": [
      "50277\n"
     ]
    }
   ],
   "source": [
    "filename = train_file\n",
    "raw_text = open(filename, 'r', encoding='utf-8').read()\n",
    "\n",
    "#tokenizer = get_tokenizer(\"subword\")\n",
    "\n",
    "#temp = tokenizer.encode(raw_text)\n",
    "raw_text = tokenizer.encode(raw_text).ids\n",
    "n_vocab = 50276 + 1 # TOKENIZER 20B_tokenizer.json\n",
    "#n_vocab = max(raw_text) + 1 # 50276 + 1 for 20B_tokenizer - GENERAL\n",
    "\n",
    "print(n_vocab)"
   ],
   "metadata": {
    "collapsed": false
   }
  },
  {
   "cell_type": "code",
   "execution_count": 5,
   "outputs": [],
   "source": [
    "#chars = sorted(list(set(raw_text)))\n",
    "#char_to_int = dict((c, i) for i, c in enumerate(chars))"
   ],
   "metadata": {
    "collapsed": false
   }
  },
  {
   "cell_type": "code",
   "execution_count": 6,
   "outputs": [
    {
     "name": "stdout",
     "output_type": "stream",
     "text": [
      "Total Tokens:  3809999\n"
     ]
    }
   ],
   "source": [
    "n_tokens = len(raw_text)\n",
    "#n_vocab = len(chars)\n",
    "print(\"Total Tokens: \", n_tokens)"
   ],
   "metadata": {
    "collapsed": false
   }
  },
  {
   "cell_type": "code",
   "execution_count": 7,
   "outputs": [
    {
     "name": "stdout",
     "output_type": "stream",
     "text": [
      "Total Patterns:  3809899\n"
     ]
    }
   ],
   "source": [
    "seq_length = 100\n",
    "dataX = []\n",
    "dataY = []\n",
    "for i in range(0, n_tokens - seq_length, 1):\n",
    "    seq_in = raw_text[i:i + seq_length]\n",
    "    seq_out = raw_text[i + seq_length]\n",
    "    dataX.append(seq_in) # [char_to_int[char] for char in seq_in]\n",
    "    dataY.append(seq_out)\n",
    "n_patterns = len(dataX)\n",
    "print(\"Total Patterns: \", n_patterns)"
   ],
   "metadata": {
    "collapsed": false
   }
  },
  {
   "cell_type": "code",
   "execution_count": 8,
   "outputs": [],
   "source": [
    "X = torch.tensor(dataX, dtype=torch.float32).reshape(n_patterns, seq_length, 1)\n",
    "X = X / float(n_vocab)\n",
    "y = torch.tensor(dataY)"
   ],
   "metadata": {
    "collapsed": false
   }
  },
  {
   "cell_type": "code",
   "execution_count": 9,
   "outputs": [
    {
     "name": "stdout",
     "output_type": "stream",
     "text": [
      "torch.Size([3809899, 100, 1]) torch.Size([3809899])\n"
     ]
    }
   ],
   "source": [
    "lookback = 1\n",
    "print(X.shape, y.shape)"
   ],
   "metadata": {
    "collapsed": false
   }
  },
  {
   "cell_type": "code",
   "execution_count": 10,
   "outputs": [],
   "source": [
    "import torch.nn as nn\n",
    "\n",
    "class LSTMModel(nn.Module):\n",
    "    def __init__(self):\n",
    "        super().__init__()\n",
    "        self.lstm = nn.LSTM(input_size=1, hidden_size=100, num_layers=1, batch_first=True)\n",
    "        self.linear1 = nn.Linear(100, 50)\n",
    "        self.linear2 = nn.Linear(50, 25)\n",
    "        self.linear3 = nn.Linear(25, n_vocab)\n",
    "    def forward(self, x):\n",
    "        x, _ = self.lstm(x)\n",
    "        x = x[:, -1, :]\n",
    "        x = self.linear1(x)\n",
    "        x = self.linear2(x)\n",
    "        x = self.linear3(x)\n",
    "        return x"
   ],
   "metadata": {
    "collapsed": false
   }
  },
  {
   "cell_type": "code",
   "execution_count": 11,
   "outputs": [],
   "source": [
    "device = torch.device(\"cuda:0\") # cpu - cpu / cuda:0 - gpu\n",
    "\n",
    "model = LSTMModel().to(device)\n",
    "optimizer = optim.Adam(model.parameters())\n",
    "loss_fn = nn.CrossEntropyLoss()\n",
    "loader = data.DataLoader(data.TensorDataset(X, y), shuffle=True, batch_size=128)\n",
    "\n",
    "best_model = None\n",
    "best_loss = np.inf"
   ],
   "metadata": {
    "collapsed": false
   }
  },
  {
   "cell_type": "code",
   "execution_count": 12,
   "outputs": [],
   "source": [
    "current_epoch = 0"
   ],
   "metadata": {
    "collapsed": false
   }
  },
  {
   "cell_type": "code",
   "execution_count": 13,
   "outputs": [],
   "source": [
    "n_epochs = 10000"
   ],
   "metadata": {
    "collapsed": false
   }
  },
  {
   "cell_type": "code",
   "execution_count": null,
   "outputs": [
    {
     "name": "stderr",
     "output_type": "stream",
     "text": [
      " 18%|█▊        | 5259/29765 [00:44<03:17, 124.04it/s]"
     ]
    }
   ],
   "source": [
    " for e in range(n_epochs):\n",
    "    current_epoch += 1\n",
    "    model.float()\n",
    "    model.train()\n",
    "    for X_batch, y_batch in tqdm(loader):\n",
    "        y_pred = model(X_batch.float().to(device))\n",
    "        loss = loss_fn(y_pred.to(device), y_batch.long().to(device))\n",
    "        optimizer.zero_grad()\n",
    "        loss.backward()\n",
    "        optimizer.step()\n",
    "    loss = 0\n",
    "    with torch.no_grad():\n",
    "        for X_batch, y_batch in loader:\n",
    "            y_pred = model(X_batch.float().to(device))\n",
    "            loss += loss_fn(y_pred.to(device), y_batch.long().to(device))\n",
    "        if loss < best_loss:\n",
    "            best_loss = loss\n",
    "            best_model = model.state_dict()\n",
    "            torch.save(best_model, \"fnn-tokenizer.pth\")\n",
    "        print(\"Epoch %d: Cross-entropy: %.4f\" % (current_epoch, loss))\n",
    "\n",
    "# 2 layers LSTM -> Epoch 13: Cross-entropy: 154954.5625"
   ],
   "metadata": {
    "collapsed": false,
    "pycharm": {
     "is_executing": true
    }
   }
  },
  {
   "cell_type": "code",
   "execution_count": 15,
   "outputs": [],
   "source": [
    "seq_length = 100\n",
    "start = np.random.randint(0, len(raw_text)-seq_length)\n",
    "prompt = raw_text[start:start+seq_length]"
   ],
   "metadata": {
    "collapsed": false
   }
  },
  {
   "cell_type": "code",
   "execution_count": 20,
   "outputs": [
    {
     "name": "stdout",
     "output_type": "stream",
     "text": [
      "xd The way you dx \n",
      "Prompt: \"The way you\"\n",
      " thebe of the world , and the little , and the little , and the little , and the little , and the little , and the little , and the little , and the little , and the little , and the little , and the little , and the little , and the little , and the little , and the little , and the little , and the little , and the little , and the little , and the little , and the little , and the little , and the little , and the little , and the little , and the little , and the little , and the little , and the little , and the little , and the little , and the little , and the little , and the little , and the little , and the little , and the little , and the little , and the little , and the little , and the little , and the little , and the little , and the little , and the little , and the little , and the little , and the little , and the little , and the little , and the little , and the little , and the little , and the little , and the little , and the little , and the little , and the little , and the little , and the little , and the little , and the little , and the little , and the little , and the little , and the little , and the little , and the little , and the little , and the little , and the little , and the little , and the little , and the little , and the little , and the little , and the little , and the little , and the little , and the little , and the little , and the little , and the little , and the little , and the little , and the little , and the little , and the little , and the little , and the little , and the little , and the little , and the little , and the little , and the little , and the little , and the little , and the little , and the little , and the little , and the little , and the little , and the little , and the little , and the little , and the little , and the little , and the little , and the little , and the little , and the little , and the little , and the little , and the little , and the little , and the little , and the little , and the little , and the little , and the little , and the little , and the little , and the little , and the little , and the little , and the little , and the little , and the little , and the little , and the little , and the little , and the little , and the little , and the little , and the little , and the little , and the little , and the little , and the little , and the little , and the little , and the little , and the little , and the little , and the little , and the little , and the little , and the little , and the little , and the little , and the little , and the little , and the little , and the little , and the little , and the little , and the little , and the little , and the little , and the little , and the little , and the little , and the little , and the little , and the little , and the little , and the little , and the little , and the little , and the little , and the little , and the little , and the little , and the little , and the little , and the little , and the little , and the little , and the little , and the little , and the little , and the little , and the little , and the little , and the little , and the little , and the little , and the little , and the little , and the little , and the little , and the little , and the little , and the little , and the little , and the little , and the little , and the little , and the little , and the little , and the little , and the little , and the little , and the little , and the little , and the little , and the little , and the little , and the little , and the little , and the little , and the little , and the little , and the little , and the little , and the little , and the little , and the little , and the little , and the little , and the little , and the little , and the little , and the little , and the little , and the little , and the little , and the little , and the little , and the little , and the little , and the little , and the little , and the little , and the little , and the little , and the little , and the little , and the little , and the little , and the little , and the little , and the little , and the little , and the little , and the little , and the little , and the little , and the\n",
      "Done.\n"
     ]
    }
   ],
   "source": [
    "import numpy as np\n",
    "import torch\n",
    "import torch.nn as nn\n",
    "\n",
    "best_model = torch.load(\"double-rwkv-tokenizer.pth\")\n",
    "\n",
    "model = LSTMModel()\n",
    "model.load_state_dict(best_model)\n",
    "\n",
    "filename = \"wonderland.txt\"\n",
    "seq_length = 100\n",
    "raw_text = open(filename, 'r', encoding='utf-8').read()\n",
    "raw_text = raw_text.lower()\n",
    "start = np.random.randint(0, len(raw_text)-seq_length)\n",
    "prompt = 'The way you'\n",
    "print(\"xd \" + str(prompt) + \" dx \")\n",
    "pattern = tokenizer.encode(prompt).ids\n",
    "\n",
    "model.eval()\n",
    "print('Prompt: \"%s\"' % prompt)\n",
    "\n",
    "tokens_to_decode = []\n",
    "\n",
    "with torch.no_grad():\n",
    "    for i in range(1000):\n",
    "        # format input array of int into PyTorch tensor\n",
    "        x = np.reshape(pattern, (1, len(pattern), 1)) / float(n_vocab)\n",
    "        x = torch.tensor(x, dtype=torch.float32)\n",
    "        # generate logits as output from the model\n",
    "        prediction = model(x)\n",
    "        # convert logits into one character\n",
    "        #index = int(prediction.argmax())\n",
    "        #print(str(tokenizer.decode([prediction.argmax()])))\n",
    "        index = prediction.argmax()\n",
    "        tokens_to_decode.append(index)\n",
    "        result = tokenizer.decode(tokens_to_decode)\n",
    "        if '\\ufffd' not in result:\n",
    "            print(result, end=\"\", flush=True)\n",
    "            tokens_to_decode = []\n",
    "        # append the new character into the prompt for the next iteration\n",
    "        pattern.append(index)\n",
    "        pattern = pattern[1:]\n",
    "print()\n",
    "print(\"Done.\")"
   ],
   "metadata": {
    "collapsed": false
   }
  },
  {
   "cell_type": "code",
   "execution_count": null,
   "outputs": [],
   "source": [
    "print(\"Torch version:\",torch.__version__)\n",
    "\n",
    "print(\"Is CUDA enabled?\",torch.cuda.is_available())"
   ],
   "metadata": {
    "collapsed": false
   }
  }
 ],
 "metadata": {
  "kernelspec": {
   "display_name": "Python 3",
   "language": "python",
   "name": "python3"
  },
  "language_info": {
   "codemirror_mode": {
    "name": "ipython",
    "version": 2
   },
   "file_extension": ".py",
   "mimetype": "text/x-python",
   "name": "python",
   "nbconvert_exporter": "python",
   "pygments_lexer": "ipython2",
   "version": "2.7.6"
  }
 },
 "nbformat": 4,
 "nbformat_minor": 0
}
